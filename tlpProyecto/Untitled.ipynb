{
 "cells": [
  {
   "cell_type": "code",
   "execution_count": 2,
   "id": "ee8c5bb5-19a5-4cec-b9d0-6c986b9cc01a",
   "metadata": {},
   "outputs": [
    {
     "name": "stdout",
     "output_type": "stream",
     "text": [
      "Ingrese el valor de n: "
     ]
    },
    {
     "name": "stdin",
     "output_type": "stream",
     "text": [
      " 5\n"
     ]
    },
    {
     "name": "stdout",
     "output_type": "stream",
     "text": [
      "Ingrese el valor de k: "
     ]
    },
    {
     "name": "stdin",
     "output_type": "stream",
     "text": [
      " 2\n"
     ]
    },
    {
     "name": "stdout",
     "output_type": "stream",
     "text": [
      "El coeficiente binomial C(n, k) es: 10\n"
     ]
    }
   ],
   "source": [
    "(define (coeficiente-binomial n k)\n",
    "  (cond\n",
    "    ((or (= k 0) (= k n)) 1)\n",
    "    (else (+ (coeficiente-binomial (- n 1) k)\n",
    "             (coeficiente-binomial (- n 1) (- k 1))))))\n",
    "\n",
    "(define (obtener-entrada)\n",
    "  (display \"Ingrese el valor de n: \")\n",
    "  (define n (read))\n",
    "  (display \"Ingrese el valor de k: \")\n",
    "  (define k (read))\n",
    "  (display \"El coeficiente binomial C(n, k) es: \")\n",
    "  (displayln (coeficiente-binomial n k)))\n",
    "\n",
    "(obtener-entrada)\n"
   ]
  },
  {
   "cell_type": "code",
   "execution_count": 1,
   "id": "d9a3f084-102f-402b-83b9-dd13583f37e0",
   "metadata": {
    "scrolled": true
   },
   "outputs": [
    {
     "name": "stdin",
     "output_type": "stream",
     "text": [
      " 2\n",
      " 2\n"
     ]
    },
    {
     "name": "stdout",
     "output_type": "stream",
     "text": [
      "MCD de 2 y 2: 2"
     ]
    }
   ],
   "source": [
    "(define (MCD a b)\n",
    "  (cond\n",
    "    ((= a b) (abs a))\n",
    "    ((< a b) (MCD (abs a) (abs (- b a))))\n",
    "    (else (MCD (abs b) (abs (- a b))))\n",
    "  )\n",
    ")\n",
    "(define num1 (read))\n",
    "(define num2 (read))\n",
    "\n",
    "(display \"MCD de \")\n",
    "(display num1)\n",
    "(display \" y \")\n",
    "(display num2)\n",
    "(display \": \")\n",
    "\n",
    "(display (MCD num1 num2))"
   ]
  },
  {
   "cell_type": "code",
   "execution_count": 6,
   "id": "4048a9c9-fa52-48b8-b660-8a3f9126b52a",
   "metadata": {},
   "outputs": [
    {
     "name": "stdout",
     "output_type": "stream",
     "text": [
      "Ingrese el número inicial del rango: "
     ]
    },
    {
     "name": "stdin",
     "output_type": "stream",
     "text": [
      " 3\n"
     ]
    },
    {
     "name": "stdout",
     "output_type": "stream",
     "text": [
      "Ingrese el número final del rango: "
     ]
    },
    {
     "name": "stdin",
     "output_type": "stream",
     "text": [
      " 7\n"
     ]
    },
    {
     "name": "stdout",
     "output_type": "stream",
     "text": [
      "Números primos en el rango: (7 5 3)"
     ]
    }
   ],
   "source": [
    "(define (es-primo? n)\n",
    "  (cond\n",
    "    ((<= n 1) #f)\n",
    "    ((= n 2) #t)\n",
    "    ((even? n) #f)\n",
    "    (else\n",
    "      (let loop ((divisor 3))\n",
    "        (cond\n",
    "          ((> divisor (sqrt n)) #t)\n",
    "          ((zero? (remainder n divisor)) #f)\n",
    "          (else (loop (+ divisor 2))))))))\n",
    "\n",
    "(define (primos inicio fin)\n",
    "  (define (iter n result)\n",
    "    (if (> n fin)\n",
    "        result\n",
    "        (if (es-primo? n)\n",
    "            (iter (+ n 1) (cons n result))\n",
    "            (iter (+ n 1) result))))\n",
    "  (iter inicio '()))\n",
    "\n",
    "(display \"Ingrese el número inicial del rango: \")\n",
    "(define inicio (read))\n",
    "(display \"Ingrese el número final del rango: \")\n",
    "(define fin (read))\n",
    "\n",
    "(display \"Números primos en el rango: \")\n",
    "(display (primos inicio fin))\n"
   ]
  },
  {
   "cell_type": "code",
   "execution_count": 3,
   "id": "cfc35ae3-7dec-4634-b9cf-7cf9318421ec",
   "metadata": {},
   "outputs": [
    {
     "name": "stdout",
     "output_type": "stream",
     "text": [
      "Ingrese el elemento a buscar: "
     ]
    },
    {
     "name": "stdin",
     "output_type": "stream",
     "text": [
      " 5\n"
     ]
    },
    {
     "name": "stdout",
     "output_type": "stream",
     "text": [
      "Ingrese la lista donde buscar (entre paréntesis y separada por espacios): "
     ]
    },
    {
     "name": "stdin",
     "output_type": "stream",
     "text": [
      " (2 4 6 8)\n"
     ]
    },
    {
     "name": "stdout",
     "output_type": "stream",
     "text": [
      "¿El elemento se encuentra en la lista? #f\n"
     ]
    }
   ],
   "source": [
    "(define (busca elemento lista)\n",
    "  (cond\n",
    "    ((null? lista) #f)\n",
    "    ((equal? (car lista) elemento) #t)\n",
    "    (else (busca elemento (cdr lista)))))\n",
    "\n",
    "(define (buscar-elemento)\n",
    "  (display \"Ingrese el elemento a buscar: \")\n",
    "  (define elemento (read))\n",
    "  (display \"Ingrese la lista donde buscar (entre paréntesis y separada por espacios): \")\n",
    "  (define lista (read))\n",
    "  (display \"¿El elemento se encuentra en la lista? \")\n",
    "  (displayln (busca elemento lista)))\n",
    "\n",
    "(buscar-elemento)\n"
   ]
  },
  {
   "cell_type": "code",
   "execution_count": 4,
   "id": "bdca0410-8b92-4c5f-b05a-25450ffb7b1a",
   "metadata": {},
   "outputs": [
    {
     "name": "stdout",
     "output_type": "stream",
     "text": [
      "Ingrese la lista que desea invertir (entre paréntesis y separada por espacios): "
     ]
    },
    {
     "name": "stdin",
     "output_type": "stream",
     "text": [
      " (2 4 6)\n"
     ]
    },
    {
     "name": "stdout",
     "output_type": "stream",
     "text": [
      "La lista invertida es: (6 4 2)\n"
     ]
    }
   ],
   "source": [
    "(define (invierte lista)\n",
    "  (if (null? lista)\n",
    "      '()\n",
    "      (append (invierte (cdr lista)) (list (car lista)))))\n",
    "\n",
    "(define (invertir-lista)\n",
    "  (display \"Ingrese la lista que desea invertir (entre paréntesis y separada por espacios): \")\n",
    "  (define lista (read))\n",
    "  (display \"La lista invertida es: \")\n",
    "  (displayln (invierte lista)))\n",
    "\n",
    "(invertir-lista)\n",
    "\n"
   ]
  },
  {
   "cell_type": "code",
   "execution_count": 5,
   "id": "1dc164fe-a798-46a8-b650-85a1a7d0044a",
   "metadata": {},
   "outputs": [
    {
     "name": "stdout",
     "output_type": "stream",
     "text": [
      "Ingrese el elemento que desea eliminar: "
     ]
    },
    {
     "name": "stdin",
     "output_type": "stream",
     "text": [
      " 4\n"
     ]
    },
    {
     "name": "stdout",
     "output_type": "stream",
     "text": [
      "Ingrese la lista de la cual desea eliminar el elemento (entre paréntesis y separada por espacios): "
     ]
    },
    {
     "name": "stdin",
     "output_type": "stream",
     "text": [
      " (2 4 6)\n"
     ]
    },
    {
     "name": "stdout",
     "output_type": "stream",
     "text": [
      "La lista resultante es: (2 6)\n"
     ]
    }
   ],
   "source": [
    "(define (elimina elemento lista)\n",
    "  (cond\n",
    "    ((null? lista) '())\n",
    "    ((equal? (car lista) elemento) (elimina elemento (cdr lista)))\n",
    "    (else (cons (car lista) (elimina elemento (cdr lista))))))\n",
    "\n",
    "(define (eliminar-elemento)\n",
    "  (display \"Ingrese el elemento que desea eliminar: \")\n",
    "  (define elemento (read))\n",
    "  (display \"Ingrese la lista de la cual desea eliminar el elemento (entre paréntesis y separada por espacios): \")\n",
    "  (define lista (read))\n",
    "  (display \"La lista resultante es: \")\n",
    "  (displayln (elimina elemento lista)))\n",
    "\n",
    "(eliminar-elemento)\n"
   ]
  },
  {
   "cell_type": "code",
   "execution_count": 13,
   "id": "a93bd1f9-5316-419f-bfb4-b9e5c7328f95",
   "metadata": {},
   "outputs": [
    {
     "name": "stdout",
     "output_type": "stream",
     "text": [
      "Ingrese un número entero para verificar si es un palíndromo: "
     ]
    },
    {
     "name": "stdin",
     "output_type": "stream",
     "text": [
      " 121\n"
     ]
    },
    {
     "name": "stdout",
     "output_type": "stream",
     "text": [
      "¿El número es un palíndromo? #t\n"
     ]
    }
   ],
   "source": [
    "(define (palindromo? numero)\n",
    "  (define (es-palindromo str)\n",
    "    (cond\n",
    "      ((<= (string-length str) 1) #t) ; Si la longitud de la cadena es 1 o menos, es un palíndromo\n",
    "      ((not (equal? (string-ref str 0) (string-ref str (- (string-length str) 1)))) #f) ; Si el primer y último caracteres no coinciden, no es un palíndromo\n",
    "      (else (es-palindromo (substring str 1 (- (string-length str) 1)))))) ; Verificar recursivamente el palíndromo sin el primer y último caracteres\n",
    "  \n",
    "  (es-palindromo (number->string numero)))\n",
    "\n",
    "(define (verificar-palindromo)\n",
    "  (display \"Ingrese un número entero para verificar si es un palíndromo: \")\n",
    "  (define numero (read))\n",
    "  (display \"¿El número es un palíndromo? \")\n",
    "  (displayln (palindromo? numero)))\n",
    "\n",
    "(verificar-palindromo)\n"
   ]
  },
  {
   "cell_type": "code",
   "execution_count": 14,
   "id": "17500199-3379-4489-bf69-11a963c99a14",
   "metadata": {},
   "outputs": [
    {
     "name": "stdout",
     "output_type": "stream",
     "text": [
      "Ingrese un número entero para calcular la suma de sus dígitos: "
     ]
    },
    {
     "name": "stdin",
     "output_type": "stream",
     "text": [
      " 12\n"
     ]
    },
    {
     "name": "stdout",
     "output_type": "stream",
     "text": [
      "La suma de los dígitos es: 3\n"
     ]
    }
   ],
   "source": [
    "(define (suma-digitos numero)\n",
    "  (define (suma-dig-rec n suma)\n",
    "    (if (= n 0)\n",
    "        suma\n",
    "        (suma-dig-rec (quotient n 10) (+ suma (remainder n 10)))))\n",
    "\n",
    "\n",
    "  (suma-dig-rec numero 0))\n",
    "\n",
    "(define (calcular-suma)\n",
    "  (display \"Ingrese un número entero para calcular la suma de sus dígitos: \")\n",
    "  (define numero (read))\n",
    "  (display \"La suma de los dígitos es: \")\n",
    "  (displayln (suma-digitos numero)))\n",
    "\n",
    "(calcular-suma)\n"
   ]
  },
  {
   "cell_type": "code",
   "execution_count": 19,
   "id": "5b93ec8a-9b0c-4985-beb8-c6e41c262d1f",
   "metadata": {},
   "outputs": [
    {
     "name": "stdout",
     "output_type": "stream",
     "text": [
      "Ingrese un número entero decimal para convertir a binario: "
     ]
    },
    {
     "name": "stdin",
     "output_type": "stream",
     "text": [
      " 123\n"
     ]
    },
    {
     "name": "stdout",
     "output_type": "stream",
     "text": [
      "El número binario equivalente es: 1111011\n"
     ]
    }
   ],
   "source": [
    "(define (decimal-a-binario n)\n",
    "  (if (= n 0)\n",
    "      '()\n",
    "      (append (decimal-a-binario (quotient n 2)) (list (remainder n 2)))))\n",
    "\n",
    "(define (numero-a-cadena lista)\n",
    "  (list->string (map (lambda (x) (integer->char (+ (char->integer #\\0) x))) lista)))\n",
    "\n",
    "(define (binario-decimal)\n",
    "  (display \"Ingrese un número entero decimal para convertir a binario: \")\n",
    "  (define numero (read))\n",
    "  (let ((bin (decimal-a-binario numero)))\n",
    "    (cond\n",
    "      ((null? bin) (displayln \"El número binario equivalente es: 0\"))\n",
    "      (else (begin\n",
    "              (display \"El número binario equivalente es: \")\n",
    "              (displayln (numero-a-cadena bin)))))))\n",
    "\n",
    "(binario-decimal)\n"
   ]
  },
  {
   "cell_type": "code",
   "execution_count": 28,
   "id": "b774e850-730c-450d-9226-17de6c2d2213",
   "metadata": {},
   "outputs": [
    {
     "name": "stdout",
     "output_type": "stream",
     "text": [
      "Ingrese el número de iteraciones para calcular π: "
     ]
    },
    {
     "name": "stdin",
     "output_type": "stream",
     "text": [
      " 1000\n"
     ]
    },
    {
     "name": "stdout",
     "output_type": "stream",
     "text": [
      "El valor aproximado de π con 1000 iteraciones es: 3.140592653839794\n"
     ]
    }
   ],
   "source": [
    "(define (leibniz-pi n)\n",
    "  (define (leibniz-rec i sign acc)\n",
    "    (if (= i n)\n",
    "        (* 4 acc)\n",
    "        (leibniz-rec (+ i 1) (- sign) (+ acc (* sign (/ 1.0 (+ (* 2 i) 1)))))))\n",
    "\n",
    "  (leibniz-rec 0 1 0))\n",
    "\n",
    "(define (calcular-pi)\n",
    "  (display \"Ingrese el número de iteraciones para calcular π: \")\n",
    "  (define n (read))\n",
    "  (display \"El valor aproximado de π con \")\n",
    "  (display n)\n",
    "  (display \" iteraciones es: \")\n",
    "  (displayln (leibniz-pi n)))\n",
    "\n",
    "(calcular-pi)\n"
   ]
  },
  {
   "cell_type": "code",
   "execution_count": null,
   "id": "023ef13e-6ebe-4981-ac2f-441608efe6d5",
   "metadata": {},
   "outputs": [],
   "source": []
  }
 ],
 "metadata": {
  "kernelspec": {
   "display_name": "Racket",
   "language": "racket",
   "name": "racket"
  },
  "language_info": {
   "codemirror_mode": "scheme",
   "file_extension": ".rkt",
   "mimetype": "text/x-racket",
   "name": "Racket",
   "pygments_lexer": "racket",
   "version": "8.12"
  }
 },
 "nbformat": 4,
 "nbformat_minor": 5
}
